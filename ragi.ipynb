{
 "cells": [
  {
   "cell_type": "code",
   "execution_count": null,
   "metadata": {},
   "outputs": [],
   "source": [
    "!pip install -r requirements.txt"
   ]
  },
  {
   "cell_type": "code",
   "execution_count": null,
   "metadata": {},
   "outputs": [],
   "source": [
    "import os\n",
    "from dotenv import load_dotenv\n",
    "from langchain.embeddings import OpenAIEmbeddings\n",
    "# Load environment variables from a .env file\"\n",
    "load_dotenv()\n",
    "# Import the required class for embeddings\n",
    "# Access the various API keys\\n\",\n",
    "    \"OPENAI_API_KEY = os.environ.get(\\\"OPENAI_API_KEY\\\")\\n\",\n",
    "    \"EMBEDDINGS = OpenAIEmbeddings(api_key=OPENAI_API_KEY)\\n\",\n",
    "    \"PINECONE_API_KEY = os.getenv(\\\"PINECONE_API_KEY\\\")\\n\","
   ]
  },
  {
   "cell_type": "code",
   "execution_count": null,
   "metadata": {},
   "outputs": [],
   "source": []
  }
 ],
 "metadata": {
  "language_info": {
   "name": "python"
  }
 },
 "nbformat": 4,
 "nbformat_minor": 2
}

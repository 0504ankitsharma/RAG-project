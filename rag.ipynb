{
 "cells": [
  {
   "cell_type": "code",
   "execution_count": null,
   "metadata": {},
   "outputs": [],
   "source": [
    "pip install -r requirements.txt"
   ]
  },
  {
   "cell_type": "code",
   "execution_count": 9,
   "metadata": {},
   "outputs": [],
   "source": [
    "import os\n",
    "from dotenv import load_dotenv\n",
    "\n",
    "# Load environment variables from a .env file\n",
    "load_dotenv()\n",
    "\n",
    "# Import the required class for embeddings\n",
    "from langchain.embeddings import OpenAIEmbeddings\n",
    "\n",
    "# Access the various API keys\n",
    "OPENAI_API_KEY = os.environ.get(\"OPENAI_API_KEY\")\n",
    "EMBEDDINGS = OpenAIEmbeddings(api_key=OPENAI_API_KEY)\n",
    "PINECONE_API_KEY = os.getenv(\"PINECONE_API_KEY\")\n",
    "\n",
    "# Now you can use EMBEDDINGS and PINECONE_API_KEY as needed\n"
   ]
  },
  {
   "cell_type": "code",
   "execution_count": null,
   "metadata": {},
   "outputs": [],
   "source": [
    "from PyPDF2 import PdfFileReader\n",
    "import os\n",
    "\n",
    "def read_doc(directory: str) -> list[str]:\n",
    "    \"\"\"\n",
    "    Function to read the PDFs from a directory.\n",
    "\n",
    "    Args:\n",
    "        directory (str): The path of the directory where the PDFs are stored.\n",
    "\n",
    "    Returns:\n",
    "        list[str]: A list of text content extracted from the PDFs.\n",
    "    \"\"\"\n",
    "    page_contents = []\n",
    "    \n",
    "    # Check if the directory exists\n",
    "    if not os.path.exists(directory):\n",
    "        raise FileNotFoundError(f\"Directory '{directory}' does not exist.\")\n",
    "    \n",
    "    # Iterate over all files in the directory\n",
    "    for filename in os.listdir(directory):\n",
    "        if filename.endswith(\".pdf\"):\n",
    "            filepath = os.path.join(directory, filename)\n",
    "            with open(filepath, \"rb\") as f:\n",
    "                reader = PdfFileReader(f)\n",
    "                text = \"\"\n",
    "                for page_num in range(reader.numPages):\n",
    "                    page = reader.getPage(page_num)\n",
    "                    text += page.extract_text()\n",
    "                page_contents.append(text)\n",
    "    \n",
    "    return page_contents\n",
    "\n",
    "# Call the function with the directory path where your PDFs are stored\n",
    "directory_path = \"the folder path where your pdfs are stored\"\n",
    "full_document = read_doc(directory_path)\n"
   ]
  },
  {
   "cell_type": "code",
   "execution_count": null,
   "metadata": {},
   "outputs": [],
   "source": []
  }
 ],
 "metadata": {
  "language_info": {
   "name": "python"
  }
 },
 "nbformat": 4,
 "nbformat_minor": 2
}

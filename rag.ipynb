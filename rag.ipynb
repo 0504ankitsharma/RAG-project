{
 "cells": [
  {
   "cell_type": "code",
   "execution_count": null,
   "metadata": {},
   "outputs": [],
   "source": [
    "pip install -r requirements.txt"
   ]
  },
  {
   "cell_type": "code",
   "execution_count": 9,
   "metadata": {},
   "outputs": [],
   "source": [
    "import os\n",
    "from dotenv import load_dotenv\n",
    "\n",
    "# Load environment variables from a .env file\n",
    "load_dotenv()\n",
    "\n",
    "# Import the required class for embeddings\n",
    "from langchain.embeddings import OpenAIEmbeddings\n",
    "\n",
    "# Access the various API keys\n",
    "OPENAI_API_KEY = os.environ.get(\"OPENAI_API_KEY\")\n",
    "EMBEDDINGS = OpenAIEmbeddings(api_key=OPENAI_API_KEY)\n",
    "PINECONE_API_KEY = os.getenv(\"PINECONE_API_KEY\")\n",
    "\n",
    "# Now you can use EMBEDDINGS and PINECONE_API_KEY as needed\n"
   ]
  },
  {
   "cell_type": "code",
   "execution_count": null,
   "metadata": {},
   "outputs": [],
   "source": [
    "from langchain_community.document_loaders.pdf import PyPDFDirectoryLoader\n",
    "\n",
    "def read_doc(directory: str) -> list[str]:\n",
    "    \"Function to read the PDFs from a directory.\n",
    "\n",
    "    Args:\n",
    "        directory (str): The path of the directory where the PDFs are stored.\n",
    "\n",
    "    Returns:\n",
    "        list[str]: A list of text in the PDFs.\n",
    "    \"\"\"\n",
    "    # Initialize a PyPDFDirectoryLoader object with the given directory\n",
    "    file_loader = PyPDFDirectoryLoader(directory)\n",
    "    \n",
    "    # Load PDF documents from the directory\n",
    "    documents = file_loader.load()\n",
    "    \n",
    "    # Extract only the page content from each document\n",
    "    page_contents = [doc.page_content for doc in documents]\n",
    "    \n",
    "    return page_contents\n",
    "\n",
    "\n",
    "# Call the function\n",
    "full_document = read_doc(\"the folder path where your pdfs are stored/\")"
   ]
  }
 ],
 "metadata": {
  "language_info": {
   "name": "python"
  }
 },
 "nbformat": 4,
 "nbformat_minor": 2
}
